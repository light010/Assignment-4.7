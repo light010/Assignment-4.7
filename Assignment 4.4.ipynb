{
 "cells": [
  {
   "cell_type": "markdown",
   "metadata": {},
   "source": [
    "## Question:-"
   ]
  },
  {
   "cell_type": "markdown",
   "metadata": {},
   "source": [
    "Blood glucose levels for obese patients have a mean of 100 with a standard deviation of 15. A researcher thinks that a diet high in raw cornstarch will have a positive effect on blood glucose levels. A sample of 36 patients who have tried the raw cornstarch diet have a mean glucose level of 108. Test the hypothesis that the raw cornstarch had an effect or not."
   ]
  },
  {
   "cell_type": "markdown",
   "metadata": {},
   "source": [
    "## Answer :-"
   ]
  },
  {
   "cell_type": "markdown",
   "metadata": {},
   "source": [
    "**<u>Step - 1</u>**<br>\n",
    "**Null Hypothesis ($H_o$):-** there is a no raw cornstarch effect in increasing the glucose level. so $\\mu = 100$<br>\n",
    "**Alternate Hypothesis ($H_a$) :-** there is a cornstarch effect. so $\\mu \\gt 100$"
   ]
  },
  {
   "cell_type": "markdown",
   "metadata": {},
   "source": [
    "**<u>Step - 2</u>**<br>\n",
    "Lets assume that the significance level is $5\\%$ i.e $0.05$."
   ]
  },
  {
   "cell_type": "markdown",
   "metadata": {},
   "source": [
    "**<u>Step - 3</u>**<br>\n",
    "calculating random chance probability using z plotting.<br>\n",
    "\n",
    "$$\\sigma_(sample .mean) = \\frac{\\sigma_(Population)}{\\sqrt N}$$\n",
    "$$ = \\frac{15}{\\sqrt 36} = 2.5$$"
   ]
  },
  {
   "cell_type": "markdown",
   "metadata": {},
   "source": [
    "* converting Normal distribution to Standard Normal distribution.\n",
    "$$ z = \\frac{(108 - 100)}{2.5}$$\n",
    "    $$ = 3.20 $$"
   ]
  },
  {
   "cell_type": "markdown",
   "metadata": {},
   "source": [
    "By z table the p-value associated with the 3.20 is 0.9993. i.e. probability of having value less than 108 is 0.9993. and greater than 108 is 0.0007.<br>\n",
    "it is less than 0.05 so we rejects the null hypothesis.<br>\n",
    "\n",
    "** So there is a cornstarch effect**"
   ]
  },
  {
   "cell_type": "code",
   "execution_count": null,
   "metadata": {
    "collapsed": true
   },
   "outputs": [],
   "source": []
  }
 ],
 "metadata": {
  "kernelspec": {
   "display_name": "Python 3",
   "language": "python",
   "name": "python3"
  },
  "language_info": {
   "codemirror_mode": {
    "name": "ipython",
    "version": 3
   },
   "file_extension": ".py",
   "mimetype": "text/x-python",
   "name": "python",
   "nbconvert_exporter": "python",
   "pygments_lexer": "ipython3",
   "version": "3.6.3"
  }
 },
 "nbformat": 4,
 "nbformat_minor": 2
}
